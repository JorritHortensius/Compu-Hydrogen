{
 "cells": [
  {
   "cell_type": "markdown",
   "metadata": {
    "collapsed": true
   },
   "source": [
    "# DMC for the Hydrogen Atom"
   ]
  },
  {
   "cell_type": "markdown",
   "metadata": {},
   "source": [
    "## General definitions and imports"
   ]
  },
  {
   "cell_type": "code",
   "execution_count": 1,
   "metadata": {
    "collapsed": true
   },
   "outputs": [],
   "source": [
    "import numpy as np\n",
    "import matplotlib.pyplot as plt\n",
    "from scipy import optimize\n",
    "%matplotlib inline\n",
    "from mpl_toolkits.mplot3d import Axes3D"
   ]
  },
  {
   "cell_type": "code",
   "execution_count": 2,
   "metadata": {
    "collapsed": false
   },
   "outputs": [],
   "source": [
    "def plot_position(pos_vector,alive):\n",
    "    \"\"\"Return 3D plot of the walker positions, based on the 6D position vector\n",
    "    \n",
    "    Parameters:\n",
    "    -----------\n",
    "    pos_vector: numpy array\n",
    "        An array containing position of the walkers at a certain timestep\n",
    "    alive: boolean array\n",
    "        An array which contains booleans corresponding to the walkers. Element is \n",
    "        True when walker is alive.\n",
    "    \n",
    "    Returns:\n",
    "    -----------\n",
    "    plot\n",
    "         3D plot with position of all living walkers\n",
    "\n",
    "    \"\"\"\n",
    "    k = 0\n",
    "    x = np.zeros((alive.count(True),6))\n",
    "    \n",
    "    #Only take walkers which are alive\n",
    "    for i in range(np.shape(pos_vector)[0]):\n",
    "        if alive[i]:\n",
    "            x[k,:] = pos_vector[i,:]\n",
    "            k +=1\n",
    "    \n",
    "    #Create the 3D scatter plot\n",
    "    fig = plt.figure()\n",
    "    ax = fig.add_subplot(111, projection='3d')\n",
    "    ax.scatter(x[:,0],x[:,1],x[:,2])\n",
    "    ax.scatter(x[:,3],x[:,4],x[:,5])\n",
    "    L=2\n",
    "    ax.set_xlim3d([-2*L,2*L])\n",
    "    ax.set_ylim3d([-L,L])\n",
    "    ax.set_zlim3d([-L,L]) "
   ]
  },
  {
   "cell_type": "code",
   "execution_count": 3,
   "metadata": {
    "collapsed": true
   },
   "outputs": [],
   "source": [
    "def data_blocking(datavector, l):\n",
    "    \"\"\"Calculate the average and standard deviation \n",
    "    of the physical input data using data_blocking,\n",
    "    \n",
    "    Parameters:\n",
    "    -----------\n",
    "    datavector: array\n",
    "        The 1D - array containing the data at each timestep\n",
    "    l: int\n",
    "       Block length to be used with data blocking\n",
    "    \n",
    "    Returns:\n",
    "    -----------\n",
    "    tuple of floats\n",
    "         Average and standard deviation of the data\n",
    "\n",
    "    \"\"\"\n",
    "    \n",
    "    #Divide the datavector in blocks\n",
    "    blocks = [datavector[i:i+l] for i in range(0, len(datavector), l)]\n",
    "    \n",
    "    #Remove the last block (with probably different length)\n",
    "    blocks = blocks[:-1] \n",
    "    \n",
    "    mean_array = [np.mean(A) for A in blocks]\n",
    "    mean_sqd = [A**2 for A in mean_array]\n",
    "    mean = np.mean(mean_array)\n",
    "    \n",
    "    std = np.sqrt(np.mean(mean_sqd) - mean**2)\n",
    "    \n",
    "    return mean, std"
   ]
  },
  {
   "cell_type": "code",
   "execution_count": 4,
   "metadata": {
    "collapsed": true
   },
   "outputs": [],
   "source": [
    "#This block is needed to create homogeneous plots throughout the project\n",
    "fparams = {'axes.labelsize': 22,\n",
    "           'axes.titlesize': 25,\n",
    "           'axes.linewidth': 1.5,\n",
    "           'font.size': 16,\n",
    "           'legend.fontsize': 20,\n",
    "           'font.family': 'serif',\n",
    "           'font.serif': 'Computer Modern Roman',\n",
    "           'xtick.labelsize': 15,\n",
    "           'xtick.major.size': 5.5,\n",
    "           'xtick.major.width': 1.5,\n",
    "           'ytick.labelsize': 15,\n",
    "           'ytick.major.size': 5.5,\n",
    "           'ytick.major.width': 1.5,\n",
    "           'text.usetex': True,\n",
    "           'figure.autolayout': True}\n",
    "plt.rcParams.update(fparams)"
   ]
  },
  {
   "cell_type": "markdown",
   "metadata": {
    "collapsed": true
   },
   "source": [
    "## Definitions related to Hydrogen Molecule"
   ]
  },
  {
   "cell_type": "code",
   "execution_count": 5,
   "metadata": {
    "collapsed": true
   },
   "outputs": [],
   "source": [
    "def find_a(s):\n",
    "    \"\"\"Calculate wave function parameter 'a' using Coulomb cusp condition.\n",
    "    \n",
    "    Parameters:\n",
    "    ----------- \n",
    "    s: float\n",
    "       Distance between the protons\n",
    "        \n",
    "    Returns:\n",
    "    -----------\n",
    "    float\n",
    "         Value of parameter a\n",
    "    \"\"\"\n",
    "    \n",
    "    #Define the function f which should equal to zero (Coulomb cusp condition)\n",
    "    def f(a,s):\n",
    "        return a * (1 + np.exp(-s/a)) - 1\n",
    "    \n",
    "    #Find the a which satisfies equation f = 0\n",
    "    a = optimize.fsolve(f, 0.75, args = (s))\n",
    "    \n",
    "    return a"
   ]
  },
  {
   "cell_type": "code",
   "execution_count": 6,
   "metadata": {
    "collapsed": true
   },
   "outputs": [],
   "source": [
    "def Calculate_F_p_and_V(Pos_walkers,s,a,beta):\n",
    "    \"\"\"Calculate force on the walker, wavefunction squared of the walker and \n",
    "    potential energy of the walker.\n",
    "    \n",
    "    \n",
    "    Parameters:\n",
    "    -----------\n",
    "    Pos_walkers: numpy array\n",
    "        Array containing the position of all walkers \n",
    "    s: float\n",
    "        Wavefunction parameter (seperation protons)   \n",
    "    a: float\n",
    "        Wavefunction parameters trial Wavefunction\n",
    "    beta: float\n",
    "        Wavefunction parameter\n",
    "           \n",
    "    Returns: \n",
    "    ----------- \n",
    "    tuple of numpy arrays\n",
    "        An array with force for each walker \n",
    "        An array with potential energy at position of each walker \n",
    "        An array with wavefunction squared at position of each walker \n",
    "    \n",
    "    \"\"\"\n",
    "   \n",
    "    #Define arrays to store Force and Potential energy\n",
    "    F = np.zeros((6))\n",
    "    V = np.zeros((1))\n",
    "    \n",
    "    #Frequently used array in calculations\n",
    "    Add_s = np.array([1, 0, 0])\n",
    "    \n",
    "    #Calculate some frequently used terms\n",
    "    r1L = Pos_walkers[0:3] + s * 0.5 * Add_s\n",
    "    r1L_norm = np.linalg.norm(r1L, axis=0)\n",
    "    r1R = Pos_walkers[0:3] - s * 0.5 * Add_s\n",
    "    r1R_norm = np.linalg.norm(r1R, axis=0)\n",
    "    r2L = Pos_walkers[3:6] + s * 0.5 * Add_s\n",
    "    r2L_norm = np.linalg.norm(r2L, axis=0)\n",
    "    r2R = Pos_walkers[3:6] - s * 0.5 * Add_s\n",
    "    r2R_norm = np.linalg.norm(r2R, axis=0)\n",
    "    r12 = Pos_walkers[0:3] - Pos_walkers[3:6]\n",
    "    r12_norm = np.linalg.norm(r12, axis=0)\n",
    "\n",
    "    phi1L = np.exp(-r1L_norm / a)\n",
    "    phi1R = np.exp(-r1R_norm / a)\n",
    "    phi1 = phi1L + phi1R\n",
    "    phi2L = np.exp(-r2L_norm / a)\n",
    "    phi2R = np.exp(-r2R_norm / a)\n",
    "    phi2 = phi2L + phi2R\n",
    "    r1Lr12 = np.sum(r1L * r12, axis=0)/(r1L_norm * r12_norm)\n",
    "    r1Rr12 = np.sum(r1R * r12, axis=0)/(r1R_norm * r12_norm)\n",
    "    r2Lr12 = np.sum(r2L * r12, axis=0)/(r2L_norm * r12_norm)\n",
    "    r2Rr12 = np.sum(r2R * r12, axis=0)/(r2R_norm * r12_norm)\n",
    "\n",
    "    \n",
    "    #Calculate force and local energy, remember that the parameter alpha = 2\n",
    "    F[0:3] = -2/(a*phi1) * (phi1L*r1L/r1L_norm + phi1R*r1R/r1R_norm) + \\\n",
    "            r12/r12_norm*(1+beta*r12_norm)**-2\n",
    "    F[3:6] = -2/(a*phi2) * (phi2L*r2L/r2L_norm + phi2R*r2R/r2R_norm) + \\\n",
    "            -r12/r12_norm*(1+beta*r12_norm)**-2\n",
    "    V = -a**(-2) + \\\n",
    "        a**(-1) * phi1**(-1) * (phi1L/r1L_norm + phi1R/r1R_norm) + \\\n",
    "        a**(-1) * phi2**(-1) * (phi2L/r2L_norm + phi2R/r2R_norm) + \\\n",
    "        - 1/r1L_norm - 1/r1R_norm - 1/r2L_norm - 1/r2R_norm + \\\n",
    "        1/r12_norm + \\\n",
    "        ( 2*a * (1 + beta * r12_norm)**2 )**-1 * \\\n",
    "        ( (phi1L*r1Lr12 + phi1R*r1Rr12)/phi1 - (phi2L*r2Lr12 + phi2R*r2Rr12)/phi2 )- \\\n",
    "        ( (4*beta + 1) * r12_norm + 4) / (4 * (1 + beta*r12_norm)**4 * r12_norm) + 1/s\n",
    "        \n",
    "    psiT2 = phi1**2 * phi2**2 * np.exp(2*r12_norm / (2 * (1 + beta * r12_norm) ) )\n",
    "    \n",
    "    return F, V, psiT2"
   ]
  },
  {
   "cell_type": "code",
   "execution_count": 7,
   "metadata": {
    "collapsed": false,
    "scrolled": true
   },
   "outputs": [],
   "source": [
    "def calc_groundstate_energy(s, beta, E_init, Nsteps, step_equi, Nwalkers, Nbuffer):\n",
    "    \"\"\"Simulate DMC process and use datablocking to determine average ground \n",
    "    state energy and standard deviation.\n",
    "    \n",
    "    Parameters:\n",
    "    -----------\n",
    "    s : float\n",
    "        Wavefunction parameter (seperation protons)\n",
    "    beta: float\n",
    "        Wavefunction parameter \n",
    "    E_init: float\n",
    "        Initial guess for the ground state energy\n",
    "    N_steps: int\n",
    "        Number of steps for walkers\n",
    "    step_equi: int \n",
    "        Number of steps to reach equilibrium\n",
    "    N_walkers: int\n",
    "        Number of walkers\n",
    "    Nbuffer: int\n",
    "        Maximum number of walkers allowed in diffusion process\n",
    "    \n",
    "    Returns: \n",
    "    -----------\n",
    "    list\n",
    "         The expectation value of the energy\n",
    "         The variance of the energy\n",
    "    \"\"\"\n",
    "        \n",
    "    x_init_3D = np.random.uniform(-1, 1, (Nbuffer,6)) #Unif. Initial position Random Walker\n",
    "\n",
    "    rand_matrix1_3D = np.random.uniform(size = (Nbuffer, Nsteps)) #To create or to anniliate\n",
    "    rand_matrix2_3D = np.random.uniform(size = (Nbuffer, Nsteps)) #To step or not to step \n",
    "    rand_matrix3_3D = np.random.normal(scale = np.sqrt(dt), size = (Nbuffer, 6, Nsteps))  #To give stepsize, equations 12.33 and 12.23\n",
    "   \n",
    "    a = finda(s)\n",
    "    Pos_walkers = np.array(x_init_3D)\n",
    "    ET = E_init\n",
    "    E0 = E_init\n",
    "    N = Nwalkers\n",
    "    \n",
    "    #Initalize alive array\n",
    "    alive = [False for i in range(Nbuffer)]\n",
    "    for i in range(N):\n",
    "        alive[i] = True\n",
    "    \n",
    "    #Parameter in DMC method\n",
    "    alpha = 0.01\n",
    "    \n",
    "    Energy = np.zeros((Nsteps,1))\n",
    "    Nprime = np.zeros((Nsteps,1))\n",
    "    F = np.zeros((6))\n",
    "    V = np.zeros((1))\n",
    "    R = np.zeros((6))\n",
    "    Fprime = np.zeros((6))\n",
    "    Vprime = np.zeros((1))\n",
    "    Rprime = np.zeros((6))\n",
    "\n",
    "    for i in range(Nsteps):\n",
    "        for j in range(N):\n",
    "            if alive[j]:\n",
    "                #Temporarly save previous position\n",
    "                R = Pos_walkers[j,:]\n",
    "                #Calculate force and local energy\n",
    "                F, V, p1 = Calculate_F_p_and_V(R,s,a,beta)\n",
    "                #Add random displacement and THE FORCE\n",
    "                Rprime = R + rand_matrix3_3D[j,:,i] + F * dt / 2\n",
    "                Fprime, Vprime, p2 = Calculate_F_p_and_V(Rprime,s,a,beta)\n",
    "                #accept or decline step, using equation 12.61\n",
    "                accept = np.exp(-1/(2*dt)*np.linalg.norm(R - Rprime- Fprime * dt / 2)**2 \\\n",
    "                                + 1/(2*dt)*np.linalg.norm(Rprime -R - F * dt / 2)**2)*p2/p1\n",
    "                if accept >= rand_matrix2_3D[j,i]:\n",
    "                    Pos_walkers[j,:] = Rprime\n",
    "                    q = np.exp(- dt * ((Vprime + V)/2 - ET))\n",
    "                    t = np.trunc(q+rand_matrix1_3D[j,i]).astype(int)\n",
    "                    #This is where we play god\n",
    "                    if t == 0:\n",
    "                        alive[j]=False            \n",
    "                    else: \n",
    "                        for k in range(t-1):\n",
    "                            #only if there are dead walkers\n",
    "                            if False in alive:\n",
    "                                reswalker = alive.index(False)\n",
    "                                alive[reswalker] = True\n",
    "                                Pos_walkers[reswalker,:] = Pos_walkers[j,:]\n",
    "        Nprime[i] = alive.count(True)\n",
    "        ET = E0 + alpha * np.log( N / Nprime[i] )\n",
    "        Energy[i] = ET\n",
    "\n",
    "    #plt.figure(1)\n",
    "    #plt.plot(Energy)\n",
    "    #plt.figure(2)\n",
    "    #plt.plot(Nprime)\n",
    "    E, std = data_blocking(Energy[step_equi::],1000)\n",
    "    #print('E = ',np.mean(Energy[step_equi::]))\n",
    "    #print('varE = ',np.std(Energy[step_equi::]))\n",
    "    return [E, std]"
   ]
  },
  {
   "cell_type": "markdown",
   "metadata": {},
   "source": [
    "## Calculate Energy for various s at the optimal beta found using VMC"
   ]
  },
  {
   "cell_type": "code",
   "execution_count": 10,
   "metadata": {
    "collapsed": false
   },
   "outputs": [
    {
     "name": "stdout",
     "output_type": "stream",
     "text": [
      "0 1 2 3 4 5 6 7 8 9 10 11 12 13 14 15 16 17 18 19 20 21 22 23 24 25 26 27 28 29 30 31 32 33 34 35 36 37 38 39 "
     ]
    },
    {
     "name": "stderr",
     "output_type": "stream",
     "text": [
      "C:\\Users\\TU Delf SID\\Anaconda3\\lib\\site-packages\\ipykernel\\__main__.py:51: DeprecationWarning: converting an array with ndim > 0 to an index will result in an error in the future\n"
     ]
    }
   ],
   "source": [
    "s_vec = np.linspace(1, 1.8, 40)\n",
    "#inital guess of the energy\n",
    "init_Beta_ar = np.load('.\\Data\\VMC\\min_beta.npy')\n",
    "#optimal beta found using VMC, to be used in the guidance function\n",
    "init_E_ar = np.load('.\\Data\\DMC\\E_rough.npy')\n",
    "dt = 0.05\n",
    "\n",
    "\n",
    "#Initalize number of walkers and number of steps\n",
    "Nwalkers = 1000\n",
    "Nbuffer = np.trunc(Nwalkers*1.5).astype(int)\n",
    "Nsteps = 11000\n",
    "step_equi = 1000\n",
    "\n",
    "final_E = np.zeros(len(init_E_ar))\n",
    "\n",
    "for i in range(len(s_vec)):\n",
    "    final_E[i], final_Var[i] = calc_groundstate_energy(s_vec[i], init_Beta_ar[i], init_E_ar[i], Nsteps, \n",
    "                                                   step_equi, Nwalkers, Nbuffer)\n",
    "    #Save results\n",
    "    np.save('.\\Data\\DMC\\s_final',  s_vec)\n",
    "    np.save('.\\Data\\DMC\\E_final', final_E)\n",
    "    np.save('.\\Data\\DMC\\Var_final', final_Var)                         \n",
    "    print(i, end = \" \")"
   ]
  },
  {
   "cell_type": "markdown",
   "metadata": {},
   "source": [
    "## Plot results and fit to data"
   ]
  },
  {
   "cell_type": "code",
   "execution_count": 5,
   "metadata": {
    "collapsed": true
   },
   "outputs": [],
   "source": [
    "def morse_potential(s,De,re,a):\n",
    "    return De*((1-np.exp(-a*(s-re)))**2-1)-1"
   ]
  },
  {
   "cell_type": "code",
   "execution_count": 32,
   "metadata": {
    "collapsed": false
   },
   "outputs": [
    {
     "name": "stdout",
     "output_type": "stream",
     "text": [
      "best fit parameters VMC [ 0.15098792  1.4067584   1.1239694 ]\n",
      "uncertainties best fit VMC [  6.20895124e-05   6.63442950e-04   2.62503234e-03]\n",
      "best fit parameters DMC [ 0.17307989  1.41444804  1.04081049]\n",
      "uncertainties best fit DMC [ 0.00014437  0.00162156  0.00556474]\n"
     ]
    },
    {
     "name": "stderr",
     "output_type": "stream",
     "text": [
      "C:\\Users\\TU Delf SID\\Anaconda3\\lib\\site-packages\\matplotlib\\figure.py:1718: UserWarning: This figure includes Axes that are not compatible with tight_layout, so its results might be incorrect.\n",
      "  warnings.warn(\"This figure includes Axes that are not \"\n"
     ]
    },
    {
     "data": {
      "image/png": "[encoded data removed]",
      "text/plain": [
       "<matplotlib.figure.Figure at 0x20ccacda278>"
      ]
     },
     "metadata": {},
     "output_type": "display_data"
    }
   ],
   "source": [
    "s_vec = np.linspace(1,1.8, 40)\n",
    "fit_vec = np.linspace(1, 1.9, 100)\n",
    "\n",
    "#VMC\n",
    "VMC_E = np.load('.\\Data\\VMC\\E_final.npy')\n",
    "VMC_Var = np.load('.\\Data\\VMC\\Var_final.npy')\n",
    "plt.errorbar(s_vec,VMC_E,VMC_Var, fmt = 'ro', markersize=3)\n",
    "\n",
    "#Fit Morse potential\n",
    "VMC_guess = [0.15,1.4,np.sqrt(0.385/(2*0.17))]\n",
    "VMC_parameters, VMC_error = optimize.curve_fit(morse_potential,s_vec,VMC_E,\n",
    "                                               p0 = VMC_guess, sigma = VMC_Var)\n",
    "\n",
    "#plot best fit, print uncertainties in estimates\n",
    "plt.plot(fit_vec,morse_potential(fit_vec,VMC_parameters[0],VMC_parameters[1],\n",
    "                               VMC_parameters[2]), 'k')\n",
    "print('best fit parameters VMC', VMC_parameters)\n",
    "print('uncertainties best fit VMC', np.sqrt(np.diag(VMC_error)))\n",
    "\n",
    "#DMC\n",
    "DMC_E = np.load('.\\Data\\DMC\\E_final_combined.npy')\n",
    "DMC_Var = np.load('.\\Data\\DMC\\Var_final_combined.npy')\n",
    "plt.errorbar(s_vec,DMC_E,DMC_Var, fmt = 's', markersize=2)\n",
    "\n",
    "#Fit Morse potential\n",
    "DMC_guess = [0.17,1.4,np.sqrt(0.385/(2*0.17))]\n",
    "DMC_parameters, DMC_error = optimize.curve_fit(morse_potential,s_vec,DMC_E, \n",
    "                                               p0 = DMC_guess, sigma = DMC_Var)\n",
    "\n",
    "#plot best fit , print uncertainties in estimates\n",
    "plt.plot(fit_vec,morse_potential(fit_vec,DMC_parameters[0],DMC_parameters[1],\n",
    "                                 DMC_parameters[2]))\n",
    "print('best fit parameters DMC', DMC_parameters)\n",
    "print('uncertainties best fit DMC', np.sqrt(np.diag(DMC_error)))\n",
    "\n",
    "#General Layout\n",
    "plt.title('Energy of hydrogen molecule', fontweight = 'bold')\n",
    "plt.xlabel(r's ($a_0$)')\n",
    "plt.ylabel('Energy (a.u)')\n",
    "\n",
    "plt.savefig('.\\Verslag\\img\\overviewfig.pdf')"
   ]
  }
 ],
 "metadata": {
  "kernelspec": {
   "display_name": "Python 3",
   "language": "python",
   "name": "python3"
  },
  "language_info": {
   "codemirror_mode": {
    "name": "ipython",
    "version": 3
   },
   "file_extension": ".py",
   "mimetype": "text/x-python",
   "name": "python",
   "nbconvert_exporter": "python",
   "pygments_lexer": "ipython3",
   "version": "3.5.1"
  }
 },
 "nbformat": 4,
 "nbformat_minor": 0
}
