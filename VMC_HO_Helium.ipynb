{
 "cells": [
  {
   "cell_type": "markdown",
   "metadata": {},
   "source": [
    "# Variational Monte Carlo"
   ]
  },
  {
   "cell_type": "markdown",
   "metadata": {},
   "source": [
    "## 1D Harmonic Oscillator"
   ]
  },
  {
   "cell_type": "markdown",
   "metadata": {},
   "source": [
    "To get started with the variational Monte Carlo Method, we start with a 1D example: The Harmonic oscillator. \n",
    "We start with the trial wavefunction \n",
    "$$\\psi(x) = e^{-\\alpha x^2}$$\n",
    "\n",
    "For a fixed $\\alpha$, we can calculate $\\langle E(\\alpha) \\rangle = \\langle \\psi |H|\\psi\\rangle$ by performing the integral\n",
    "$$\\frac{\\int_{-\\infty}^{\\infty}\\psi^*(x)H\\psi(x)}{\\langle \\psi | \\psi \\rangle} \\mathrm{d}x$$\n",
    "\n",
    "We approximate this integral using the variational Monte Carlo Method. \n",
    "$$\\int_{-\\infty}^{\\infty}\\frac{\\psi^2(x)}{\\langle \\psi | \\psi \\rangle}\\frac{H\\psi(x)}{\\psi(x)} \\mathrm{d}x $$\n",
    "\n",
    "This first part of the expression gives a probability density, while the second part is called 'the local energy', which we can calculate analytically in the case of the 1D Harmonic Oscillator. \n",
    "This probability density gives immediately a sampling function for performing the integral! For high values of the probability, we want more sampling points, to improve the accuracy of our integral estimate. \n",
    "To indeed sample our Monte Carlo points according to this position we use random Walkers. \n",
    "\n",
    "Random walkers:\n",
    "At each step, they can shift to a new position. The probability. distribution gives via a ratio the probability that this step is indeed taken. This leads to a sample of points, distributed with the desired probability distribution!!"
   ]
  },
  {
   "cell_type": "code",
   "execution_count": 1,
   "metadata": {
    "collapsed": false
   },
   "outputs": [],
   "source": [
    "import numpy as np\n",
    "import matplotlib.pyplot as plt\n",
    "from scipy import optimize\n",
    "%matplotlib inline"
   ]
  },
  {
   "cell_type": "markdown",
   "metadata": {},
   "source": [
    "### Initialize Parameters and random numbers"
   ]
  },
  {
   "cell_type": "code",
   "execution_count": 4,
   "metadata": {
    "collapsed": false
   },
   "outputs": [],
   "source": [
    "Nsteps = 30000     #Number of walker steps\n",
    "N = 400            #Number of random walkers\n",
    "alpha_1D = [0.40, 0.45, 1/2, 0.55, 0.60]   #Various values of alpha\n",
    "\n",
    "x_init_HO = np.random.uniform(-1, 1, N) #Unif. Initial position Random Walker\n",
    "step_equi = 4000   #Number of equilibrium steps\n",
    "\n",
    "#Matrix with random numbers, to accept (or not) the step\n",
    "accept_matrix_HO = np.random.uniform(size = (N, Nsteps))  \n",
    "#Matrix to give random stepsizes\n",
    "step_matrix_HO = np.random.uniform(-1, 1, size = (N, Nsteps))  \n",
    "\n",
    "#Maximal stepsize\n",
    "d_max1D = 0.2"
   ]
  },
  {
   "cell_type": "markdown",
   "metadata": {},
   "source": [
    "### Calculate the Energy, using Variational Monte Carlo"
   ]
  },
  {
   "cell_type": "markdown",
   "metadata": {},
   "source": [
    "We calculate the expectation value of the energy and the and also show the variance of the Energy. We compare the values with the book by Jos Thijssen. "
   ]
  },
  {
   "cell_type": "code",
   "execution_count": 7,
   "metadata": {
    "collapsed": false
   },
   "outputs": [
    {
     "name": "stdout",
     "output_type": "stream",
     "text": [
      "alpha      E      Var( E )\n",
      "0.4   0.5129    0.02527\n",
      "0.45   0.5030    0.00556\n",
      "0.5   0.5000    0.00000\n",
      "0.55   0.5022    0.00453\n",
      "0.6   0.5081    0.01671\n"
     ]
    }
   ],
   "source": [
    "print('alpha      E      Var( E )')\n",
    "\n",
    "#We change the parameter in the wavefunction \n",
    "for alpha in alpha_1D:\n",
    "    \n",
    "    #We set the initial position of the walkers to be random\n",
    "    Pos_walkers = np.zeros((N, Nsteps+1))\n",
    "    Pos_walkers[:,0] = np.array(x_init_HO)\n",
    "    \n",
    "    #For each timestep we do the following:\n",
    "    for i in range(Nsteps):\n",
    "       \n",
    "        Pos_old = Pos_walkers[:,i]\n",
    "        #Let all walkers set a random step\n",
    "        Pos_new = Pos_walkers[:,i] + step_matrix_HO[:,i]*d_max1D\n",
    "        \n",
    "        #Determine acceptance probability \n",
    "        p = np.exp(-2 * alpha * Pos_new*Pos_new) * np.exp(2 * alpha * Pos_old*Pos_old)\n",
    "        \n",
    "        #Determine for each walkers if the step is accepted\n",
    "        accept = np.where(p > accept_matrix_HO[:,i])\n",
    "        not_accept = np.where(p <= accept_matrix_HO[:,i])\n",
    "        \n",
    "        #Move if new position is accepted\n",
    "        Pos_walkers[accept,i+1] = Pos_new[accept]\n",
    "        Pos_walkers[not_accept,i+1] = Pos_old[not_accept]\n",
    "\n",
    "    #Calculate for all walkers, for each position the local energy EL and \n",
    "    #the local energy squared\n",
    "    EL_array = Pos_walkers[:,step_equi:]*Pos_walkers[:,step_equi:]*(1/2 - 2*alpha**2) \\\n",
    "               + alpha\n",
    "    EL2_array = EL_array * EL_array\n",
    "    \n",
    "    #Calculate the expectation value and variance of the energy \n",
    "    E = np.mean(EL_array)\n",
    "    E2 = np.mean(EL2_array)\n",
    "    Var = E2 - E**2\n",
    "    \n",
    "    print(alpha, end = \"   \")\n",
    "    print(\"%.4f\" %E, end = \"    \")\n",
    "    print(\"%.5f\"  %Var)"
   ]
  },
  {
   "cell_type": "markdown",
   "metadata": {},
   "source": [
    "## The Helium Atom"
   ]
  },
  {
   "cell_type": "markdown",
   "metadata": {},
   "source": [
    "As second step, we try and calculate the energy of the helium atom using VMC. The approach is explained in the book by Jos Thijssen (Chapter 12.2) and we compare the values with the table in the book. We use the same names for the parameters"
   ]
  },
  {
   "cell_type": "markdown",
   "metadata": {},
   "source": [
    "### Initialize Parameters and random numbers"
   ]
  },
  {
   "cell_type": "code",
   "execution_count": 9,
   "metadata": {
    "collapsed": false
   },
   "outputs": [],
   "source": [
    "Nsteps = 20000   #Number of walker steps\n",
    "N = 400          #Number of random walkers\n",
    "\n",
    "#Parameter in wavefunction\n",
    "alpha_HE = [0.05, 0.075, 0.10, 0.125, 0.15, 0.175, 0.2, 0.25]   \n",
    "\n",
    "x_init_HE = np.random.uniform(-1, 1, (N,6)) #Unif. Initial position Random Walker\n",
    "step_equi = 4000   #Number of equilibrium steps\n",
    " \n",
    "\n",
    "#Matrix with random numbers, to accept (or not) the step\n",
    "accept_matrix_HE = np.random.uniform(size = (N, Nsteps))  \n",
    "#Matrix to give random stepsizes\n",
    "step_matrix_HE = np.random.uniform(-1, 1, size = (N, 6, Nsteps))\n",
    "\n",
    "#Maximal stepsize\n",
    "d_max3D = 0.4"
   ]
  },
  {
   "cell_type": "markdown",
   "metadata": {},
   "source": [
    "### Calculate the Energy, using Variational Monte Carlo"
   ]
  },
  {
   "cell_type": "code",
   "execution_count": 18,
   "metadata": {
    "collapsed": false
   },
   "outputs": [
    {
     "name": "stdout",
     "output_type": "stream",
     "text": [
      "alpha      E      Var( E )   Acceptance probability\n",
      "0.050   -2.8712    0.17530        0.582\n",
      "0.075   -2.8753    0.15335        0.578\n",
      "0.100   -2.8770    0.13598        0.575\n",
      "0.125   -2.8779    0.12244        0.572\n",
      "0.150   -2.8784    0.11155        0.569\n",
      "0.175   -2.8779    0.10333        0.567\n",
      "0.200   -2.8773    0.09694        0.565\n",
      "0.250   -2.8751    0.08844        0.561\n"
     ]
    }
   ],
   "source": [
    "print('alpha      E      Var( E )   Acceptance probability')\n",
    "for alpha in alpha_HE:\n",
    "    \n",
    "    #We set the initial position of the walkers to be random\n",
    "    Pos_walkers = np.zeros((N, 6, Nsteps+1))\n",
    "    Pos_walkers[:,:,0] = np.array(x_init_HE)\n",
    "    \n",
    "    #The matrix which will contain local energy at each point\n",
    "    EL_matrix = np.zeros((N, Nsteps-step_equi))\n",
    "    \n",
    "    #Keep track of number of steps which is accepted\n",
    "    num_accept = 0\n",
    "    num_not_accept = 0\n",
    "    \n",
    "    #For each timestep we do the following:\n",
    "    for i in range(Nsteps):\n",
    "\n",
    "        #We calculate some distances, which are needed to calculate acceptance probability\n",
    "        r1 = np.sqrt(np.sum(Pos_walkers[:,0:3,i]*Pos_walkers[:,0:3,i], axis = 1))\n",
    "        r2 = np.sqrt(np.sum(Pos_walkers[:,3:6,i]*Pos_walkers[:,3:6,i], axis = 1))\n",
    "        diff = Pos_walkers[:,3:6,i] - Pos_walkers[:,0:3,i]\n",
    "        r12 = np.sqrt(np.sum(diff*diff, axis = 1))\n",
    "\n",
    "        #Let all walkers set a random step\n",
    "        Pos_new = Pos_walkers[:,:,i] + step_matrix_HE[:,:,i]*d_max3D\n",
    "        \n",
    "        #Calculate the same distances, after the steps\n",
    "        r1_prime = np.sqrt(np.sum(Pos_new[:,0:3]*Pos_new[:,0:3], axis = 1))\n",
    "        r2_prime = np.sqrt(np.sum(Pos_new[:,3:6]*Pos_new[:,3:6], axis = 1))\n",
    "        diff_prime = Pos_new[:,3:6] - Pos_new[:,0:3]\n",
    "        r12_prime = np.sqrt(np.sum(diff_prime*diff_prime, axis = 1))\n",
    "        \n",
    "        #Determine acceptance probability \n",
    "        p = np.exp(-4*(r1_prime-r1))*np.exp(-4*(r2_prime-r2))*np.exp(r12_prime/(1 \n",
    "            + alpha*r12_prime))*np.exp(-r12/(1 + alpha*r12))\n",
    "        \n",
    "        #Determine for each walkers if the step is accepted\n",
    "        accept = np.where(p > accept_matrix_HE[:,i])\n",
    "        not_accept = np.where(p <= accept_matrix_HE[:,i])\n",
    "        \n",
    "        #Keep track of acceptance numbers\n",
    "        num_accept += len(accept[0])\n",
    "        num_not_accept += len(not_accept[0])\n",
    "        \n",
    "        #Move if new position is accepted\n",
    "        Pos_walkers[accept,:, i+1] = Pos_new[accept]\n",
    "        Pos_walkers[not_accept,:,i+1] = Pos_walkers[not_accept,:,i]\n",
    "\n",
    "        #Now calculating the local energy, after equilibrium\n",
    "        if i >= step_equi:\n",
    "            \n",
    "            #Calculate distances between electrons and atom\n",
    "            r1_f = np.sqrt(np.sum(Pos_walkers[:,0:3,i+1]*Pos_walkers[:,0:3,i+1], axis = 1))\n",
    "            r2_f = np.sqrt(np.sum(Pos_walkers[:,3:6,i+1]*Pos_walkers[:,3:6,i+1], axis = 1))\n",
    "            diff_f = Pos_walkers[:,3:6,i+1] - Pos_walkers[:,0:3,i+1]\n",
    "            r12_f = np.sqrt(np.sum(diff_f*diff_f, axis = 1))\n",
    "            \n",
    "            #Calculate one term of local energy\n",
    "            b_term = r1_f + r2_f - np.sum(Pos_walkers[:,0:3,i+1]*Pos_walkers[:,3:6,i+1], \n",
    "                                          axis = 1) \\\n",
    "                    *(1/r1_f + 1/r2_f)\n",
    "            \n",
    "            #Calculate the local energy\n",
    "            EL_array = -4 + b_term * 1/(r12_f*(1 + alpha*r12_f)**2) - 1/(r12_f*(1 + \\\n",
    "                        alpha*r12_f)**3) - 1/(4*(1 + alpha*r12_f)**4) + 1/r12_f\n",
    "\n",
    "            EL_matrix[:,i-step_equi] = EL_array\n",
    "    \n",
    "    #Calculate the expectation value and variance of the energy \n",
    "    E = np.mean(EL_matrix)\n",
    "    E2 = np.mean(EL_matrix*EL_matrix)\n",
    "    Var = E2 - E**2\n",
    "    accept_prob = num_accept/(num_accept + num_not_accept)\n",
    "    \n",
    "    print(\"%.3f\" %alpha, end = \"   \")\n",
    "    print(\"%.4f\" %E, end = \"    \")\n",
    "    print(\"%.5f\"  %Var, end = \"        \")\n",
    "    print(\"%.3f\" %accept_prob)"
   ]
  }
 ],
 "metadata": {
  "kernelspec": {
   "display_name": "Python 3",
   "language": "python",
   "name": "python3"
  },
  "language_info": {
   "codemirror_mode": {
    "name": "ipython",
    "version": 3
   },
   "file_extension": ".py",
   "mimetype": "text/x-python",
   "name": "python",
   "nbconvert_exporter": "python",
   "pygments_lexer": "ipython3",
   "version": "3.5.1"
  }
 },
 "nbformat": 4,
 "nbformat_minor": 0
}
