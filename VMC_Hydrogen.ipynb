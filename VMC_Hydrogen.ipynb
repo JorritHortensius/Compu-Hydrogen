{
 "cells": [
  {
   "cell_type": "markdown",
   "metadata": {},
   "source": [
    "# Hydrogen Energy and bond length"
   ]
  },
  {
   "cell_type": "markdown",
   "metadata": {},
   "source": [
    "In this project we will calculate the energy of a hydrogen molecule, consisting of two positive protons with a fixed position and two electrons 'circling around'. We will use the Variational Monte Carlo method using a trial wavefunction for the electrons, with several parameters which can be tuned to minimize the Energy. This energy depends in turn on the distance $s$ between the atoms. The ultimate goal is to find the distance $s$, for which the Energy is minimized. "
   ]
  },
  {
   "cell_type": "code",
   "execution_count": 1,
   "metadata": {
    "collapsed": false
   },
   "outputs": [],
   "source": [
    "import numpy as np\n",
    "import matplotlib.pyplot as plt\n",
    "from scipy import optimize\n",
    "%matplotlib inline"
   ]
  },
  {
   "cell_type": "code",
   "execution_count": 2,
   "metadata": {
    "collapsed": true
   },
   "outputs": [],
   "source": [
    "#This block is needed to create homogeneous plots throughout the project\n",
    "fparams = {'axes.labelsize': 22,\n",
    "           'axes.titlesize': 25,\n",
    "           'axes.linewidth': 1.5,\n",
    "           'font.size': 16,\n",
    "           'legend.fontsize': 20,\n",
    "           'font.family': 'serif',\n",
    "           'font.serif': 'Computer Modern Roman',\n",
    "           'xtick.labelsize': 15,\n",
    "           'xtick.major.size': 5.5,\n",
    "           'xtick.major.width': 1.5,\n",
    "           'ytick.labelsize': 15,\n",
    "           'ytick.major.size': 5.5,\n",
    "           'ytick.major.width': 1.5,\n",
    "           'text.usetex': True,\n",
    "           'figure.autolayout': True}\n",
    "plt.rcParams.update(fparams)"
   ]
  },
  {
   "cell_type": "code",
   "execution_count": 3,
   "metadata": {
    "collapsed": true
   },
   "outputs": [],
   "source": [
    "def data_blocking(datavector, l):\n",
    "    \"\"\"Calculate the average and standard deviation \n",
    "    of the physical input data using data_blocking,\n",
    "    \n",
    "    Parameters:\n",
    "    -----------\n",
    "    datavector: array\n",
    "        The 1D - array containing the data at each timestep\n",
    "    l: int\n",
    "       Block length to be used with data blocking\n",
    "    \n",
    "    Returns:\n",
    "    -----------\n",
    "    tuple of floats\n",
    "         Average and standard deviation of the data\n",
    "\n",
    "    \"\"\"\n",
    "    \n",
    "    #Divide the datavector in blocks\n",
    "    blocks = [datavector[i:i+l] for i in range(0, len(datavector), l)]\n",
    "    \n",
    "    #Remove the last block (with probably different length)\n",
    "    blocks = blocks[:-1] \n",
    "    \n",
    "    mean_array = [np.mean(A) for A in blocks]\n",
    "    mean_sqd = [A**2 for A in mean_array]\n",
    "    mean = np.mean(mean_array)\n",
    "    \n",
    "    std = np.sqrt(np.mean(mean_sqd) - mean**2)\n",
    "    \n",
    "    return mean, std"
   ]
  },
  {
   "cell_type": "markdown",
   "metadata": {},
   "source": [
    "## The Hydrogen Molecule"
   ]
  },
  {
   "cell_type": "markdown",
   "metadata": {
    "collapsed": true
   },
   "source": [
    "Now we continue to the final assignment: The Hydrogen molecule."
   ]
  },
  {
   "cell_type": "markdown",
   "metadata": {},
   "source": [
    "We use the function\n",
    "$$\\Psi(\\vec{r}_1, \\vec{r}_2) = \\phi(\\vec{r}_1)\\phi(\\vec{r}_2)\\psi(\\vec{r}_1, \\vec{r}_2),$$ \n",
    "\n",
    "where \n",
    "$$ \\phi(\\vec{r}_1) = e^{-r_{1L}/a} + e^{-r_{1R}/a} = \\phi_{1L} + \\phi_{1R}$$\n",
    "$$ \\phi(\\vec{r}_2) = e^{-r_{2L}/a} + e^{-r_{2R}/a} = \\phi_{1L} + \\phi_{1R}$$\n",
    "$$ \\psi(\\vec{r_1}, \\vec{r_2}) = exp\\left[\\frac{|\\vec{r_1} - \\vec{r_2}|}{\\alpha(1 + \\beta|\\vec{r_1} - \\vec{r_2}|)}\\right]$$\n",
    "\n",
    "We are going to approximate the integral:\n",
    "\n",
    "$$\\int\\mathrm{d}^3 \\vec{r}_1 \\int\\mathrm{d}^3 \\vec{r}_2 \\omega(\\vec{r}_1, \\vec{r}_2, s)\\epsilon(\\vec{r}_1, \\vec{r}_2, s),$$ \n",
    "\n",
    "where \n",
    "$$\\omega(\\vec{r}_1, \\vec{r}_2, s) = \\frac{\\Psi^2(\\vec{r}_1, \\vec{r}_2)}{\\langle \\Psi | \\Psi \\rangle}$$ is the weight and\n",
    "\n",
    "$$\\epsilon(\\vec{r}_1, \\vec{r}_2, s)$$ is the local energy\n"
   ]
  },
  {
   "cell_type": "code",
   "execution_count": 4,
   "metadata": {
    "collapsed": true
   },
   "outputs": [],
   "source": [
    "def find_a(s):\n",
    "    \"\"\"Calculate parameter 'a' using Coulomb cusp condition.\n",
    "    \n",
    "    Parameters:\n",
    "    ----------- \n",
    "    s: float\n",
    "       Distance between the protons\n",
    "        \n",
    "    Returns:\n",
    "    -----------\n",
    "    float\n",
    "         Value of parameter a\n",
    "    \"\"\"\n",
    "    \n",
    "    #Define the function f which should equal to zero (Coulomb cusp condition)\n",
    "    def f(a,s):\n",
    "        return a * (1 + np.exp(-s/a)) - 1\n",
    "    \n",
    "    #Find the a which satisfies equation f = 0\n",
    "    a = optimize.fsolve(f, 0.75, args = (s))\n",
    "    \n",
    "    return a"
   ]
  },
  {
   "cell_type": "code",
   "execution_count": 5,
   "metadata": {
    "collapsed": false
   },
   "outputs": [],
   "source": [
    "def set_and_accept_steps(Init_pos, rand_steps, accept_prob, beta, s, a, Add_s):\n",
    "    \"\"\"Given the initial position, determine the new position of the walkers\n",
    "    using Metropolis method, \n",
    "    \n",
    "    Parameters:\n",
    "    -----------\n",
    "    Init_pos: numpy array\n",
    "        Array containing the position of all walkers \n",
    "    rand_steps: array_like\n",
    "        Array with random step to be taken by each walker\n",
    "    accept_prob: array_like\n",
    "        Array containing random numbers between 0 and 1\n",
    "    beta: float\n",
    "        Wavefunction parameter\n",
    "    s: float\n",
    "       Wavefunction parameter (seperation protons)   \n",
    "    a: float\n",
    "       Wavefunction parameters trial Wavefunction\n",
    "    Add_s: numpy array\n",
    "        An array which is often needed for computations\n",
    "        \n",
    "           \n",
    "    Returns: \n",
    "    ----------- \n",
    "    numpy array\n",
    "            Updated position of the walkers \n",
    "    \n",
    "    \"\"\"\n",
    "   \n",
    "    New_pos = np.zeros(np.shape(Init_pos))\n",
    "    \n",
    "    #Calculate some distances, for each walker, which are needed for acceptance probability\n",
    "    r1L = Init_pos[:, 0:3] + 0.5 * s * Add_s\n",
    "    r1L_norm = np.linalg.norm(r1L, axis=1)\n",
    "    r1R = Init_pos[:,0:3] - s * 0.5 * Add_s\n",
    "    r1R_norm = np.linalg.norm(r1R, axis=1)\n",
    "    r2L = Init_pos[:,3:6] + s * 0.5 * Add_s\n",
    "    r2L_norm = np.linalg.norm(r2L, axis = 1)\n",
    "    r2R = Init_pos[:,3:6] - s * 0.5 * Add_s\n",
    "    r2R_norm = np.linalg.norm(r2R, axis=1)\n",
    "    r12 = Init_pos[:,0:3] - Init_pos[:,3:6] \n",
    "    r12_norm = np.linalg.norm(r12, axis=1)\n",
    "    \n",
    "    #Set the random steps\n",
    "    x_prime = Init_pos + rand_steps\n",
    "    \n",
    "    #Calculate the same distances for each walkers, after the steps\n",
    "    r1L_prime = x_prime[:,0:3] + s * 0.5 * Add_s\n",
    "    r1L_norm_prime = np.linalg.norm(r1L_prime, axis=1)\n",
    "    r1R_prime = x_prime[:,0:3] - s * 0.5 * Add_s\n",
    "    r1R_norm_prime = np.linalg.norm(r1R_prime, axis=1)\n",
    "    r2L_prime = x_prime[:,3:6] + s * 0.5 * Add_s\n",
    "    r2L_norm_prime = np.linalg.norm(r2L_prime, axis=1)\n",
    "    r2R_prime = x_prime[:,3:6] - s * 0.5 * Add_s\n",
    "    r2R_norm_prime = np.linalg.norm(r2R_prime, axis=1)\n",
    "    r12_prime = x_prime[:,0:3] - x_prime[:,3:6]\n",
    "    r12_norm_prime = np.linalg.norm(r12_prime, axis=1)\n",
    "    \n",
    "    \n",
    "    #Calculate the acceptance probability for all walkers\n",
    "    p1 = ( np.exp(-r1L_norm_prime / a) + np.exp(-r1R_norm_prime / a) )* \\\n",
    "         ( np.exp(-r2L_norm_prime / a) + np.exp(-r2R_norm_prime / a) ) * \\\n",
    "           np.exp(r12_norm_prime / (2 * (1 + beta * r12_norm_prime) ) )\n",
    "    p2 = ( np.exp(-r1L_norm / a) + np.exp(-r1R_norm / a) )* \\\n",
    "         ( np.exp(-r2L_norm / a) + np.exp(-r2R_norm / a) ) * \\\n",
    "           np.exp( r12_norm / (2 * (1 + beta * r12_norm) ) ) \n",
    "\n",
    "    p = p1**2 * p2**(-2)\n",
    "    \n",
    "    #Determine for each walkers if the step is accepted\n",
    "    accept = np.where(p > accept_prob)\n",
    "    not_accept = np.where(p <= accept_prob)\n",
    "    \n",
    "    #Move if new position is accepted\n",
    "    New_pos[accept,:] = x_prime[accept,:]\n",
    "    New_pos[not_accept,:] = Init_pos[not_accept,:]\n",
    "    \n",
    "    return New_pos"
   ]
  },
  {
   "cell_type": "code",
   "execution_count": 6,
   "metadata": {
    "collapsed": true
   },
   "outputs": [],
   "source": [
    "def calc_local_energy(Pos_walkers, s, beta,  a, Add_s):\n",
    "    \"\"\"Calculate the local energy for every walker position\n",
    "    \n",
    "    Parameters:\n",
    "    -----------\n",
    "    Pos_walkers: numpy array\n",
    "        Array containing the position of the walkers at certain timestep\n",
    "    s: float\n",
    "       Wavefunction parameter (seperation protons)\n",
    "    beta: float\n",
    "        Wavefunction parameter   \n",
    "    a: float\n",
    "       Wavefunction parameters trial Wavefunction\n",
    "    Add_s: numpy array\n",
    "        An array which is often needed for computations\n",
    "    \n",
    "    Returns: \n",
    "    -----------\n",
    "    tuple of numpy arrays\n",
    "        An array with the local energy at the position of all walkers \n",
    "        An array with a certain derivative term, needed in other function\n",
    "    \"\"\"\n",
    "\n",
    "    #We calculate some distance vectors, which are needed for probability\n",
    "    r1L_f = Pos_walkers[:,0:3] + s * 0.5 * Add_s\n",
    "    r1L_norm_f = np.linalg.norm(r1L_f, axis=1)\n",
    "    r1R_f = Pos_walkers[:,0:3] - s * 0.5 * Add_s\n",
    "    r1R_norm_f = np.linalg.norm(r1R_f, axis=1)\n",
    "    r2L_f = Pos_walkers[:,3:6] + s * 0.5 * Add_s\n",
    "    r2L_norm_f = np.linalg.norm(r2L_f, axis=1)\n",
    "    r2R_f = Pos_walkers[:,3:6] - s * 0.5 * Add_s\n",
    "    r2R_norm_f = np.linalg.norm(r2R_f, axis=1)\n",
    "    r12_f = Pos_walkers[:,0:3] - Pos_walkers[:,3:6]\n",
    "    r12_norm_f = np.linalg.norm(r12_f, axis=1)\n",
    "\n",
    "    #And some frequently used terms in the local energy.\n",
    "    phi1L = np.exp(-r1L_norm_f / a)\n",
    "    phi1R = np.exp(-r1R_norm_f / a)\n",
    "    phi1 = phi1L + phi1R\n",
    "    phi2L = np.exp(-r2L_norm_f / a)\n",
    "    phi2R = np.exp(-r2R_norm_f / a)\n",
    "    phi2 = phi2L + phi2R\n",
    "    r1Lr12 = np.sum(r1L_f * r12_f, axis=1)/(r1L_norm_f * r12_norm_f)\n",
    "    r1Rr12 = np.sum(r1R_f * r12_f, axis=1)/(r1R_norm_f * r12_norm_f)\n",
    "    r2Lr12 = np.sum(r2L_f * r12_f, axis=1)/(r2L_norm_f * r12_norm_f)\n",
    "    r2Rr12 = np.sum(r2R_f * r12_f, axis=1)/(r2R_norm_f * r12_norm_f)\n",
    "\n",
    "    #Calculate local energy. Note that only one dimensional arrays are used in this expression\n",
    "    EL = -a**(-2) + \\\n",
    "            a**(-1) * phi1**(-1) * (phi1L/r1L_norm_f + phi1R/r1R_norm_f) + \\\n",
    "            a**(-1) * phi2**(-1) * (phi2L/r2L_norm_f + phi2R/r2R_norm_f) + \\\n",
    "            - 1/r1L_norm_f - 1/r1R_norm_f - 1/r2L_norm_f - 1/r2R_norm_f + \\\n",
    "            1/r12_norm_f + \\\n",
    "            ( 2*a * (1 + beta * r12_norm_f)**2 )**-1 * \\\n",
    "            ( (phi1L*r1Lr12 + phi1R*r1Rr12)/phi1 - (phi2L*r2Lr12 + phi2R*r2Rr12)/phi2 )- \\\n",
    "            ( (4*beta + 1) * r12_norm_f + 4) / (4 * (1 + beta*r12_norm_f)**4 * r12_norm_f)\n",
    "    \n",
    "    #Calculate another term, needed for the damped steepest descent method\n",
    "    deriv = -1 * r12_norm_f**2/((1 + beta*r12_norm_f)*2)\n",
    "    \n",
    "    return EL, deriv"
   ]
  },
  {
   "cell_type": "code",
   "execution_count": 7,
   "metadata": {
    "collapsed": false
   },
   "outputs": [],
   "source": [
    "def calc_energy(s, beta, N_steps, step_equi, N_walkers, block_len = 10000):\n",
    "    \"\"\"Calculate the expectation value, the variance of the energy of the\n",
    "    system with the trial wavefunction, and expectation value of dE/dBeta. \n",
    "\n",
    "    Parameters:\n",
    "    -----------\n",
    "    s : float\n",
    "        Wavefunction parameter (seperation protons)\n",
    "    beta: float\n",
    "        Wavefunction parameter \n",
    "    N_steps: int\n",
    "        Number of steps for walkers\n",
    "    step_equi: int\n",
    "        Number of steps to reach equilibrium\n",
    "    N_walkers: int\n",
    "        Number of walkers\n",
    "    block_len: int\n",
    "        Block length used for data blocking\n",
    "    \n",
    "    Returns: \n",
    "    \n",
    "    -----------\n",
    "    tuple of floats\n",
    "         The expectation value and the variance of the energy. Moreover\n",
    "         returns expectation of dE/dBeta.\n",
    "             \n",
    "    \"\"\"\n",
    "        \n",
    "        \n",
    "    N = N_walkers\n",
    "    Add_s = np.concatenate((np.ones([N,1]),np.zeros([N,2])),axis=1)\n",
    "    \n",
    "    #We calculate a\n",
    "    a = find_a(s)\n",
    "\n",
    "    x_init_3D = np.random.uniform(-1, 1, (N,6)) #Unif. Initial position Random Walker\n",
    "    rand_matrix1_3D = np.random.uniform(size = (N, N_steps)) #To step or not to step \n",
    "    rand_matrix2_3D = np.random.uniform(-1, 1, size = (N, 6, N_steps))  #To give stepsize\n",
    "\n",
    "    #Maximal stepsize\n",
    "    d_max3D = 0.6\n",
    "    \n",
    "    #We set some counters and constants\n",
    "    count = 0\n",
    "    Pos_walkers = np.zeros((N, 6, N_steps+1))\n",
    "    Pos_walkers[:,:,0] = x_init_3D\n",
    "    \n",
    "    EL_matrix = np.zeros((N, N_steps-step_equi))\n",
    "    deriv_matrix1 = np.zeros((N, N_steps-step_equi))\n",
    "    deriv_matrix2 = np.zeros((N, N_steps-step_equi))\n",
    "    \n",
    "    for i in range(N_steps):\n",
    "\n",
    "        #We set the random steps and see whether they are accepted\n",
    "        random_steps =  rand_matrix2_3D[:,:,i]*d_max3D\n",
    "        Pos_walkers[:,:,i+1] = set_and_accept_steps(Pos_walkers[:,:,i], random_steps, rand_matrix1_3D[:,i], beta, s, a, Add_s)\n",
    "        \n",
    "        #Now calculating the local energy, after equilibrium\n",
    "        if i >= step_equi:\n",
    "            EL, deriv_EL = calc_local_energy(Pos_walkers[:,:,i+1], s, beta, a, Add_s)\n",
    "            EL_matrix[:,i-step_equi] = EL\n",
    "            deriv_matrix1[:,i-step_equi] = EL*deriv_EL\n",
    "            deriv_matrix2[:,i-step_equi] = deriv_EL\n",
    "            \n",
    "    #Plot Energy\n",
    "    #plt.plot(range(N_steps - step_equi), np.mean(EL_matrix + 1/s, axis = 0))\n",
    "             \n",
    "    #For each timestep we calculate average El and use datablocking\n",
    "    E, varE = data_blocking(np.mean(EL_matrix,0), block_len)\n",
    "    steep_descent = 2*(np.mean(deriv_matrix1) - E*np.mean(deriv_matrix2))\n",
    "    \n",
    "    final_E = E + 1/s   #Add proton-proton (Coulomb) interaction\n",
    "    return [final_E, varE, steep_descent]"
   ]
  },
  {
   "cell_type": "code",
   "execution_count": 8,
   "metadata": {
    "collapsed": true
   },
   "outputs": [],
   "source": [
    "def minimize_beta(s, N_steps, step_equi, N_walkers, init_beta, iter = 10):\n",
    "    \n",
    "    \"\"\"Calculate the value for the parameter beta, for which the energy of the\n",
    "     system with the trial wavefunction is minimized.\n",
    "\n",
    "    Parameters:\n",
    "    -----------\n",
    "    s : float\n",
    "        Wavefunction parameter (seperation protons)       \n",
    "    N_steps: int\n",
    "        Number of steps for walkers\n",
    "    step_equi: int \n",
    "        Number of steps to reach equilibrium\n",
    "    N_walkers: int\n",
    "        Number of walkers\n",
    "    block_len: int\n",
    "        block length used for data blocking\n",
    "    \n",
    "    Returns: \n",
    "    -----------\n",
    "    tuple of floats\n",
    "        The value of beta for which the energy is minimized \n",
    "        the expectation value of this energy.\n",
    "        dE/dBeta for this minimal beta. \n",
    "    \"\"\"\n",
    "    \n",
    "    #We set some counters and constants\n",
    "    beta_low = init_beta\n",
    "    E_low = 1000\n",
    "    beta = init_beta\n",
    "    countsteep = 0\n",
    "\n",
    "    while countsteep < iter:\n",
    "\n",
    "        E, Var, steep_descent  = calc_energy(s, beta, N_steps, step_equi, N_walkers, block_len = 200)\n",
    "        countsteep += 1\n",
    "        \n",
    "        #Update beta\n",
    "        beta = beta - 5*steep_descent\n",
    "    \n",
    "    return beta, E, steep_descent"
   ]
  },
  {
   "cell_type": "markdown",
   "metadata": {},
   "source": [
    "## Determine optimal Beta "
   ]
  },
  {
   "cell_type": "markdown",
   "metadata": {},
   "source": [
    "### Initialize parameters and constants "
   ]
  },
  {
   "cell_type": "code",
   "execution_count": null,
   "metadata": {
    "collapsed": true
   },
   "outputs": [],
   "source": [
    "N_steps = 5000\n",
    "step_equi = 1000\n",
    "Nwalkers = 400\n",
    "Init_beta = 0.7"
   ]
  },
  {
   "cell_type": "markdown",
   "metadata": {},
   "source": [
    "Find optimal values of $\\beta$"
   ]
  },
  {
   "cell_type": "code",
   "execution_count": null,
   "metadata": {
    "collapsed": true
   },
   "outputs": [],
   "source": [
    "#The values for s, seperation between two protons\n",
    "s_vec = np.linspace(1,1.8,40)\n",
    "\n",
    "\n",
    "#Array to store optimal beta values (and derivate dE/dBeta, to check results)\n",
    "beta_min = np.zeros(len(s_vec))\n",
    "deriv = np.zeros(len(s_vec))\n",
    "\n",
    "#for each seperation s, we find the optimal beta and we save the data\n",
    "for i,s in enumerate(s_vec):\n",
    "    beta_min[i], Energy, deriv[i] = minimize_beta(s, N_steps, step_equi, Nwalkers, \n",
    "                                                          Init_beta, iter = 10)\n",
    "\n",
    "    print(i, end = \" \")\n",
    "\n",
    "np.save('.\\Data\\VMC\\min_beta', beta_min)\n",
    "np.save('.\\Data\\VMC\\s_vec', s_vec)\n",
    "np.save('.\\Data\\VMC\\deriv', deriv)"
   ]
  },
  {
   "cell_type": "markdown",
   "metadata": {},
   "source": [
    "Now we run VMC one more time for the optimal $\\beta$, using data blocking"
   ]
  },
  {
   "cell_type": "code",
   "execution_count": null,
   "metadata": {
    "collapsed": true
   },
   "outputs": [],
   "source": [
    "N_steps = 81000\n",
    "step_equi = 1000\n",
    "Nwalkers = 400"
   ]
  },
  {
   "cell_type": "code",
   "execution_count": null,
   "metadata": {
    "collapsed": true
   },
   "outputs": [],
   "source": [
    "s_vec = np.load('.\\Data\\VMC\\s_vec.npy')\n",
    "beta_optim = np.load('.\\Data\\VMC\\min_beta.npy')\n",
    "E_VarE_array = np.zeros((2,len(s_vec)))\n",
    "\n",
    "#for each seperation s, we calculate the energy (and the uncertainty)\n",
    "for i,s in enumerate(s_vec):\n",
    "    beta = beta_optim[i]\n",
    "    E_VarE_array[:,i] = calc_energy(s, beta, N_steps, step_equi, Nwalkers, \n",
    "                                        block_len = 400)[0:2]\n",
    "    print(i, end = \" \")\n",
    "\n",
    "    np.save('.\\Data\\VMC\\E_final2', E_VarE_array[0,:])\n",
    "    np.save('.\\Data\\VMC\\Var_final2', E_VarE_array[1,:])"
   ]
  },
  {
   "cell_type": "markdown",
   "metadata": {},
   "source": [
    "### Plot results"
   ]
  },
  {
   "cell_type": "code",
   "execution_count": null,
   "metadata": {
    "collapsed": true
   },
   "outputs": [],
   "source": [
    "E_final = np.load('.\\Data\\VMC\\E_final.npy')\n",
    "Var_final = np.load('.\\Data\\VMC\\Var_final.npy')\n",
    "s_vector = np.linspace(1,1.8, 40)\n",
    "\n",
    "plt.errorbar(s_vector, E_final, Var_final)\n",
    "plt.title('Energy of Hydrogen molecule', fontweight = 'bold')\n",
    "plt.xlabel(r'seperation protons ($a_0$)')\n",
    "plt.ylabel('Energy (a.u)')\n",
    "plt.savefig(\".\\Verslag\\img\\VMC_final_improv.pdf\")\n"
   ]
  }
 ],
 "metadata": {
  "kernelspec": {
   "display_name": "Python 3",
   "language": "python",
   "name": "python3"
  },
  "language_info": {
   "codemirror_mode": {
    "name": "ipython",
    "version": 3
   },
   "file_extension": ".py",
   "mimetype": "text/x-python",
   "name": "python",
   "nbconvert_exporter": "python",
   "pygments_lexer": "ipython3",
   "version": "3.5.1"
  }
 },
 "nbformat": 4,
 "nbformat_minor": 0
}
